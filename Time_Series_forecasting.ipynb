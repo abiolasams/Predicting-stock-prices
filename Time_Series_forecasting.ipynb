{
  "nbformat": 4,
  "nbformat_minor": 0,
  "metadata": {
    "colab": {
      "name": "Time Series forecasting.ipynb",
      "provenance": []
    },
    "kernelspec": {
      "name": "python3",
      "display_name": "Python 3"
    },
    "language_info": {
      "name": "python"
    }
  },
  "cells": [
    {
      "cell_type": "code",
      "metadata": {
        "colab": {
          "base_uri": "https://localhost:8080/"
        },
        "id": "0QIC6r7QF5Sn",
        "outputId": "59869214-11bf-4e8c-a496-bad83881b515"
      },
      "source": [
        "\n",
        "import numpy as np\n",
        "import matplotlib.pyplot as plt\n",
        "import pandas as pd\n",
        "import pandas_datareader as web\n",
        "import datetime as dt\n",
        "\n",
        "from sklearn.preprocessing import MinMaxScaler\n",
        "from tensorflow.keras.models import Sequential\n",
        "from tensorflow.keras.layers import Dense, Dropout, LSTM\n",
        "\n",
        "#Loading Data\n",
        "company = 'FB'\n",
        "\n",
        "start = dt.datetime(2010,1,1)\n",
        "end = dt.datetime(2020,1,1)\n",
        "\n",
        "#data = web.DataReader(company, 'yahoo', start, end)\n",
        "\n",
        "!pip install yfinance --upgrade --no-cache-dir\n",
        "\n",
        "from pandas_datareader import data as pdr\n",
        "import yfinance as yf\n",
        "\n",
        "yf.pdr_override()\n",
        "\n",
        "data = pdr.get_data_yahoo(\"SPY\", start=\"2017-01-01\", end=\"2020-01-01\")\n",
        "\n",
        "data.head()\n",
        "\n",
        "#Prepare Data\n",
        "scaler = MinMaxScaler(feature_range=(0,1))\n",
        "scaled_data = scaler.fit_transform(data['Close'].values.reshape(-1,1))\n",
        "\n",
        "prediction_days=60\n",
        "\n",
        "x_train=[]\n",
        "y_train=[]\n",
        "\n",
        "for x in range(prediction_days, len(scaled_data)):\n",
        "    x_train.append(scaled_data[x-prediction_days:x, 0])\n",
        "    y_train.append(scaled_data[x, 0])\n",
        "\n",
        "x_train,y_train = np.array(x_train),np.array(y_train)\n",
        "x_train = np.reshape(x_train, (x_train.shape[0], x_train.shape[1], 1))\n",
        "\n",
        "#Build the model\n",
        "model = Sequential()\n",
        "\n",
        "model.add(LSTM(units=50, return_sequences=True, input_shape=(x_train.shape[1], 1)))\n",
        "model.add(Dropout(0.2))\n",
        "model.add(LSTM(units=50,return_sequences=True))\n",
        "model.add(Dropout(0.2))\n",
        "model.add(LSTM(units=50))\n",
        "model.add(Dropout(0.2))\n",
        "model.add(Dense(units=1))# Prediction of the next closing value\n",
        "\n",
        "model.compile(optimizer='adam',loss='mean_squared_error')\n",
        "\n",
        "print(model.summary())\n",
        "\n",
        "model.fit(x_train, y_train, epochs=25, batch_size=32)\n",
        "\n",
        "test_start=dt.datetime(2020,1,1)\n",
        "test_end=dt.datetime.now()\n",
        "\n",
        "test_data = pdr.get_data_yahoo(\"SPY\", test_start, test_end)\n",
        "\n",
        "actual_prices = test_data['Close'].values\n",
        "\n",
        "total_dataset=pd.concat((data['Close'], test_data['Close']), axis=0)\n",
        "\n",
        "model_inputs = total_dataset[len(total_dataset) - len(test_data) - prediction_days:].values\n",
        "model_inputs = model_inputs.reshape(-1,1)\n",
        "model_inputs = scaler.transform(model_inputs)\n",
        "\n",
        "\"\"\"Make Predictions on Test Data\"\"\"\n",
        "\n",
        "x_test = []\n",
        "\n",
        "for x in range(prediction_days, len(model_inputs)):\n",
        "  x_test.append(model_inputs[x-prediction_days:x, 0])\n",
        "\n",
        "x_test = np.array(x_test)\n",
        "x_test = np.reshape(x_test, (x_test.shape[0], x_test.shape[1], 1))\n",
        "\n",
        "\n",
        "predicted_prices = model.predict(x_test)\n",
        "predicted_prices = scaler.inverse_transform(predicted_prices)\n",
        "\n"
      ],
      "execution_count": 2,
      "outputs": [
        {
          "output_type": "stream",
          "name": "stdout",
          "text": [
            "Requirement already satisfied: yfinance in /usr/local/lib/python3.7/dist-packages (0.1.67)\n",
            "Requirement already satisfied: numpy>=1.15 in /usr/local/lib/python3.7/dist-packages (from yfinance) (1.19.5)\n",
            "Requirement already satisfied: multitasking>=0.0.7 in /usr/local/lib/python3.7/dist-packages (from yfinance) (0.0.10)\n",
            "Requirement already satisfied: requests>=2.20 in /usr/local/lib/python3.7/dist-packages (from yfinance) (2.23.0)\n",
            "Requirement already satisfied: pandas>=0.24 in /usr/local/lib/python3.7/dist-packages (from yfinance) (1.1.5)\n",
            "Requirement already satisfied: lxml>=4.5.1 in /usr/local/lib/python3.7/dist-packages (from yfinance) (4.6.4)\n",
            "Requirement already satisfied: python-dateutil>=2.7.3 in /usr/local/lib/python3.7/dist-packages (from pandas>=0.24->yfinance) (2.8.2)\n",
            "Requirement already satisfied: pytz>=2017.2 in /usr/local/lib/python3.7/dist-packages (from pandas>=0.24->yfinance) (2018.9)\n",
            "Requirement already satisfied: six>=1.5 in /usr/local/lib/python3.7/dist-packages (from python-dateutil>=2.7.3->pandas>=0.24->yfinance) (1.15.0)\n",
            "Requirement already satisfied: urllib3!=1.25.0,!=1.25.1,<1.26,>=1.21.1 in /usr/local/lib/python3.7/dist-packages (from requests>=2.20->yfinance) (1.24.3)\n",
            "Requirement already satisfied: certifi>=2017.4.17 in /usr/local/lib/python3.7/dist-packages (from requests>=2.20->yfinance) (2021.10.8)\n",
            "Requirement already satisfied: chardet<4,>=3.0.2 in /usr/local/lib/python3.7/dist-packages (from requests>=2.20->yfinance) (3.0.4)\n",
            "Requirement already satisfied: idna<3,>=2.5 in /usr/local/lib/python3.7/dist-packages (from requests>=2.20->yfinance) (2.10)\n",
            "[*********************100%***********************]  1 of 1 completed\n",
            "Model: \"sequential_1\"\n",
            "_________________________________________________________________\n",
            " Layer (type)                Output Shape              Param #   \n",
            "=================================================================\n",
            " lstm_3 (LSTM)               (None, 60, 50)            10400     \n",
            "                                                                 \n",
            " dropout_3 (Dropout)         (None, 60, 50)            0         \n",
            "                                                                 \n",
            " lstm_4 (LSTM)               (None, 60, 50)            20200     \n",
            "                                                                 \n",
            " dropout_4 (Dropout)         (None, 60, 50)            0         \n",
            "                                                                 \n",
            " lstm_5 (LSTM)               (None, 50)                20200     \n",
            "                                                                 \n",
            " dropout_5 (Dropout)         (None, 50)                0         \n",
            "                                                                 \n",
            " dense_1 (Dense)             (None, 1)                 51        \n",
            "                                                                 \n",
            "=================================================================\n",
            "Total params: 50,851\n",
            "Trainable params: 50,851\n",
            "Non-trainable params: 0\n",
            "_________________________________________________________________\n",
            "None\n",
            "Epoch 1/25\n",
            "22/22 [==============================] - 8s 96ms/step - loss: 0.0550\n",
            "Epoch 2/25\n",
            "22/22 [==============================] - 2s 97ms/step - loss: 0.0089\n",
            "Epoch 3/25\n",
            "22/22 [==============================] - 2s 102ms/step - loss: 0.0068\n",
            "Epoch 4/25\n",
            "22/22 [==============================] - 2s 102ms/step - loss: 0.0072\n",
            "Epoch 5/25\n",
            "22/22 [==============================] - 2s 99ms/step - loss: 0.0069\n",
            "Epoch 6/25\n",
            "22/22 [==============================] - 2s 99ms/step - loss: 0.0064\n",
            "Epoch 7/25\n",
            "22/22 [==============================] - 2s 98ms/step - loss: 0.0060\n",
            "Epoch 8/25\n",
            "22/22 [==============================] - 2s 99ms/step - loss: 0.0053\n",
            "Epoch 9/25\n",
            "22/22 [==============================] - 2s 98ms/step - loss: 0.0055\n",
            "Epoch 10/25\n",
            "22/22 [==============================] - 2s 102ms/step - loss: 0.0061\n",
            "Epoch 11/25\n",
            "22/22 [==============================] - 2s 102ms/step - loss: 0.0057\n",
            "Epoch 12/25\n",
            "22/22 [==============================] - 2s 101ms/step - loss: 0.0052\n",
            "Epoch 13/25\n",
            "22/22 [==============================] - 2s 102ms/step - loss: 0.0061\n",
            "Epoch 14/25\n",
            "22/22 [==============================] - 2s 98ms/step - loss: 0.0058\n",
            "Epoch 15/25\n",
            "22/22 [==============================] - 2s 99ms/step - loss: 0.0048\n",
            "Epoch 16/25\n",
            "22/22 [==============================] - 2s 99ms/step - loss: 0.0051\n",
            "Epoch 17/25\n",
            "22/22 [==============================] - 2s 97ms/step - loss: 0.0049\n",
            "Epoch 18/25\n",
            "22/22 [==============================] - 2s 102ms/step - loss: 0.0049\n",
            "Epoch 19/25\n",
            "22/22 [==============================] - 2s 98ms/step - loss: 0.0048\n",
            "Epoch 20/25\n",
            "22/22 [==============================] - 2s 100ms/step - loss: 0.0047\n",
            "Epoch 21/25\n",
            "22/22 [==============================] - 2s 98ms/step - loss: 0.0043\n",
            "Epoch 22/25\n",
            "22/22 [==============================] - 2s 96ms/step - loss: 0.0044\n",
            "Epoch 23/25\n",
            "22/22 [==============================] - 2s 99ms/step - loss: 0.0045\n",
            "Epoch 24/25\n",
            "22/22 [==============================] - 2s 97ms/step - loss: 0.0043\n",
            "Epoch 25/25\n",
            "22/22 [==============================] - 2s 98ms/step - loss: 0.0046\n",
            "[*********************100%***********************]  1 of 1 completed\n"
          ]
        }
      ]
    },
    {
      "cell_type": "code",
      "metadata": {
        "colab": {
          "base_uri": "https://localhost:8080/",
          "height": 312
        },
        "id": "K_yExEgbGsGz",
        "outputId": "0160e6d7-1f5f-4fc1-9c83-08e7b9c2d80b"
      },
      "source": [
        "\"\"\"plot the test predictions\"\"\"\n",
        "\n",
        "plt.plot(actual_prices, color ='black', label=f\"Actual\")\n",
        "plt.plot(predicted_prices, color ='green', label=f\"Predicted\")\n",
        "plt.title(f\"{company} share price\")\n",
        "plt.xlabel('Time')\n",
        "plt.ylabel(f\"{company} share price\")\n",
        "plt.legend()\n",
        "\n"
      ],
      "execution_count": 3,
      "outputs": [
        {
          "output_type": "execute_result",
          "data": {
            "text/plain": [
              "<matplotlib.legend.Legend at 0x7f6a8071b810>"
            ]
          },
          "metadata": {},
          "execution_count": 3
        },
        {
          "output_type": "display_data",
          "data": {
            "image/png": "[encoded data removed]",
            "text/plain": [
              "<Figure size 432x288 with 1 Axes>"
            ]
          },
          "metadata": {
            "needs_background": "light"
          }
        }
      ]
    },
    {
      "cell_type": "code",
      "metadata": {
        "id": "Uc_QMbwiGxpi"
      },
      "source": [
        "\"\"\"Predict Next Day\"\"\"\n",
        "\n",
        "real_data = [model_inputs[len(model_inputs)  - prediction_days:len(model_inputs+1), 0]]\n",
        "real_data = np.array(real_data)\n",
        "real_data = np.reshape(real_data, (real_data.shape[0], real_data.shape[1],1))\n"
      ],
      "execution_count": 7,
      "outputs": []
    },
    {
      "cell_type": "code",
      "metadata": {
        "colab": {
          "base_uri": "https://localhost:8080/"
        },
        "id": "Agh6NQLzI4MQ",
        "outputId": "c612edb0-4f9c-4e86-d102-991b13a5ae8f"
      },
      "source": [
        "\n",
        "prediction = model.predict(real_data)\n",
        "prediction = scaler.inverse_transform(prediction)\n",
        "print(f\"Prediction: {prediction}\")"
      ],
      "execution_count": 8,
      "outputs": [
        {
          "output_type": "stream",
          "name": "stdout",
          "text": [
            "Prediction: [[442.16693]]\n"
          ]
        }
      ]
    }
  ]
}